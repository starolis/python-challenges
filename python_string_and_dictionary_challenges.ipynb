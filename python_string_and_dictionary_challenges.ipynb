{
 "cells": [
  {
   "cell_type": "markdown",
   "id": "38eba976",
   "metadata": {},
   "source": [
    "### Exercise 1: Dictionary Comprehension\n",
    "In this exercise, you will create a dictionary using dictionary comprehension. \n",
    "Your task is to transform a list of words into a dictionary where each word is a key, and its value is the length of the word."
   ]
  },
  {
   "cell_type": "code",
   "execution_count": null,
   "id": "935cc028",
   "metadata": {},
   "outputs": [],
   "source": [
    "def word_length_dictionary(words):\n",
    "    \"\"\"\n",
    "    Create a dictionary where each key is a word from the input list `words`,\n",
    "    and each value is the length of that word.\n",
    "\n",
    "    Parameters:\n",
    "    words (list): A list of words (strings).\n",
    "\n",
    "    Returns:\n",
    "    dict: A dictionary where keys are words from `words` and values are the lengths of these words.\n",
    "\n",
    "    Example:\n",
    "    >>> word_length_dictionary(['Python', 'is', 'fun'])\n",
    "    {'Python': 6, 'is': 2, 'fun': 3}\n",
    "    \"\"\"\n",
    "    pass"
   ]
  },
  {
   "cell_type": "markdown",
   "id": "b735b429",
   "metadata": {},
   "source": [
    "### Exercise 2: Nested Dictionaries\n",
    "Work with nested dictionaries where the outer dictionary keys are subjects, and the values are dictionaries containing book titles and their authors."
   ]
  },
  {
   "cell_type": "code",
   "execution_count": null,
   "id": "40d2f6f3",
   "metadata": {},
   "outputs": [],
   "source": [
    "def subject_book_authors(subjects_books):\n",
    "    \"\"\"\n",
    "    Create a nested dictionary where each key is a subject, and the value is another dictionary. \n",
    "    The nested dictionary should contain book titles (keys) and their authors (values) related to that subject.\n",
    "\n",
    "    Parameters:\n",
    "    subjects_books (dict): A dictionary where keys are subjects and values are lists of tuples.\n",
    "                           Each tuple contains a book title and its author.\n",
    "\n",
    "    Returns:\n",
    "    dict: A nested dictionary of subjects, books, and authors.\n",
    "\n",
    "    Example:\n",
    "    >>> subjects = {\"Science\": [(\"Brief History of Time\", \"Stephen Hawking\"), (\"The Selfish Gene\", \"Richard Dawkins\")]}\n",
    "    >>> subject_book_authors(subjects)\n",
    "    {'Science': {'Brief History of Time': 'Stephen Hawking', 'The Selfish Gene': 'Richard Dawkins'}}\n",
    "    \"\"\"\n",
    "    pass"
   ]
  },
  {
   "cell_type": "markdown",
   "id": "decb79c1",
   "metadata": {},
   "source": [
    "### Exercise 3: String Method Exploration\n",
    "Explore various string methods by analyzing a multi-line string to count different types of characters."
   ]
  },
  {
   "cell_type": "code",
   "execution_count": null,
   "id": "978ee376",
   "metadata": {},
   "outputs": [],
   "source": [
    "def string_analysis(multi_line_string):\n",
    "    \"\"\"\n",
    "    Analyze a given multi-line string and count the number of uppercase letters, lowercase letters, and spaces.\n",
    "\n",
    "    Parameters:\n",
    "    multi_line_string (str): A string possibly containing multiple lines.\n",
    "\n",
    "    Returns:\n",
    "    tuple: A tuple containing three integers in the order (lowercase_count, uppercase_count, space_count).\n",
    "\n",
    "    Example:\n",
    "    >>> string_analysis(\"Hello World\\nThis Is A Test String\")\n",
    "    (20, 5, 6)\n",
    "    \"\"\"\n",
    "    pass"
   ]
  },
  {
   "cell_type": "markdown",
   "id": "d8168dc2",
   "metadata": {},
   "source": [
    "### Exercise 4: Dictionary Values Manipulation\n",
    "Learn to manipulate and iterate over dictionary values by applying discounts to item prices."
   ]
  },
  {
   "cell_type": "code",
   "execution_count": null,
   "id": "834ad10e",
   "metadata": {},
   "outputs": [],
   "source": [
    "def apply_discount(prices):\n",
    "    \"\"\"\n",
    "    Apply a 10% discount to each price in the given dictionary and return the updated dictionary.\n",
    "\n",
    "    Parameters:\n",
    "    prices (dict): A dictionary where keys are items and values are prices (float or int).\n",
    "\n",
    "    Returns:\n",
    "    dict: An updated dictionary with each price reduced by 10%.\n",
    "\n",
    "    Example:\n",
    "    >>> apply_discount({'apple': 1.0, 'banana': 0.5})\n",
    "    {'apple': 0.9, 'banana': 0.45}\n",
    "    \"\"\"\n",
    "    pass\n"
   ]
  },
  {
   "cell_type": "markdown",
   "id": "a3fdb53e",
   "metadata": {},
   "source": [
    "### Exercise 5: String Pattern Search\n",
    "Write a function to count the number of occurrences of a search query in a given text, ignoring case differences."
   ]
  },
  {
   "cell_type": "code",
   "execution_count": null,
   "id": "5236a52f",
   "metadata": {},
   "outputs": [],
   "source": [
    "def count_occurrences(text, search_query):\n",
    "    \"\"\"\n",
    "    Count the number of occurrences of `search_query` in `text`, ignoring case.\n",
    "\n",
    "    Parameters:\n",
    "    text (str): A string where the search will be performed.\n",
    "    search_query (str): The string to search for in `text`.\n",
    "\n",
    "    Returns:\n",
    "    int: The number of occurrences of `search_query` in `text`.\n",
    "\n",
    "    Example:\n",
    "    >>> count_occurrences(\"Hello world, hello Python!\", \"hello\")\n",
    "    2\n",
    "    \"\"\"\n",
    "    pass\n"
   ]
  },
  {
   "cell_type": "markdown",
   "id": "d5d46b17",
   "metadata": {},
   "source": [
    "### Exercise 6: Complex Dictionary Operations\n",
    "Sort a dictionary of student grades in descending order and practice complex dictionary operations."
   ]
  },
  {
   "cell_type": "code",
   "execution_count": null,
   "id": "d853ed80",
   "metadata": {},
   "outputs": [],
   "source": [
    "def sort_grades(students):\n",
    "    \"\"\"\n",
    "    Sort a dictionary of student grades in descending order and return the sorted dictionary.\n",
    "\n",
    "    Parameters:\n",
    "    students (dict): A dictionary where keys are student names and values are their grades (int or float).\n",
    "\n",
    "    Returns:\n",
    "    dict: A dictionary sorted by grades in descending order.\n",
    "\n",
    "    Example:\n",
    "    >>> sort_grades({'Alice': 88, 'Bob': 95, 'Clara': 82})\n",
    "    {'Bob': 95, 'Alice': 88, 'Clara': 82}\n",
    "    \"\"\"\n",
    "    pass"
   ]
  }
 ],
 "metadata": {
  "kernelspec": {
   "display_name": "Python 3",
   "language": "python",
   "name": "python3"
  },
  "language_info": {
   "name": "python",
   "version": "3.11.6"
  }
 },
 "nbformat": 4,
 "nbformat_minor": 5
}
